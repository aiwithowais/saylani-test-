{
 "cells": [
  {
   "cell_type": "markdown",
   "id": "30cc1600",
   "metadata": {},
   "source": [
    "# Scenario 01: Employee Performance Evaluation"
   ]
  },
  {
   "cell_type": "code",
   "execution_count": 1,
   "id": "4fdf163c",
   "metadata": {},
   "outputs": [
    {
     "name": "stdout",
     "output_type": "stream",
     "text": [
      "Top-performing employees:\n",
      "Alice: 36001.88\n",
      "Emma: 33001.84\n",
      "John: 30001.8\n",
      "James: 28801.76\n",
      "Bob: 27001.68\n"
     ]
    }
   ],
   "source": [
    "\n",
    "employees = [\n",
    "    (\"John\", 50000, 4.5),\n",
    "    (\"Alice\", 60000, 4.7),\n",
    "    (\"Bob\", 45000, 4.2),\n",
    "    (\"Emma\", 55000, 4.6),\n",
    "    (\"James\", 48000, 4.4)\n",
    "]\n",
    "\n",
    "sales_weight = 0.6\n",
    "satisfaction_weight = 0.4\n",
    "\n",
    "weighted_scores = [(name,\n",
    "                    sales * sales_weight + satisfaction * satisfaction_weight) for name,\n",
    "                   sales,\n",
    "                   satisfaction in employees]\n",
    "\n",
    "top_performers = sorted(weighted_scores, key=lambda x: x[1], reverse=True)\n",
    "\n",
    "print(\"Top-performing employees:\")\n",
    "for employee, score in top_performers:\n",
    "    print(f\"{employee}: {score}\")\n"
   ]
  },
  {
   "cell_type": "markdown",
   "id": "21b06e84",
   "metadata": {},
   "source": [
    "# Scenario 02: Calculating Square Roots of Even Numbers"
   ]
  },
  {
   "cell_type": "code",
   "execution_count": 2,
   "id": "0e382b96",
   "metadata": {},
   "outputs": [
    {
     "name": "stdout",
     "output_type": "stream",
     "text": [
      "Square roots of even numbers from 1 to 10:\n",
      "Square root of 2 is 1.4142135623730951\n",
      "Square root of 4 is 2.0\n",
      "Square root of 6 is 2.449489742783178\n",
      "Square root of 8 is 2.8284271247461903\n",
      "Square root of 10 is 3.1622776601683795\n"
     ]
    }
   ],
   "source": [
    "\n",
    "even_num = [num for num in range(1, 11) if num % 2 == 0]\n",
    "square_roots = [(lambda x: x ** 0.5)(num) for num in even_numbers]\n",
    "\n",
    "\n",
    "print(\"Square roots of even num from 1 to 10:\")\n",
    "for num, square_root in zip(even_num, square_roots):\n",
    "    print(f\"Square root of {num} is {square_root}\")\n"
   ]
  }
 ],
 "metadata": {
  "kernelspec": {
   "display_name": "Python 3 (ipykernel)",
   "language": "python",
   "name": "python3"
  },
  "language_info": {
   "codemirror_mode": {
    "name": "ipython",
    "version": 3
   },
   "file_extension": ".py",
   "mimetype": "text/x-python",
   "name": "python",
   "nbconvert_exporter": "python",
   "pygments_lexer": "ipython3",
   "version": "3.11.5"
  }
 },
 "nbformat": 4,
 "nbformat_minor": 5
}
